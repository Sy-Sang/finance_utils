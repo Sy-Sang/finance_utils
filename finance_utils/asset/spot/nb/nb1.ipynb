{
 "cells": [
  {
   "cell_type": "code",
   "id": "initial_id",
   "metadata": {
    "collapsed": true,
    "ExecuteTime": {
     "end_time": "2025-01-06T09:41:54.861014Z",
     "start_time": "2025-01-06T09:41:54.858714Z"
    }
   },
   "source": [
    "from finance_utils.asset.spot.base import Spot\n",
    "from finance_utils.asset.spot.process import gbm\n",
    "from finance_utils.trader.base import Trader"
   ],
   "outputs": [],
   "execution_count": 3
  },
  {
   "metadata": {
    "ExecuteTime": {
     "end_time": "2025-01-06T09:42:03.443246Z",
     "start_time": "2025-01-06T09:42:03.439242Z"
    }
   },
   "cell_type": "code",
   "source": "trader = Trader(10000)",
   "id": "5e7c9794ef0ce068",
   "outputs": [],
   "execution_count": 4
  },
  {
   "metadata": {
    "ExecuteTime": {
     "end_time": "2025-01-06T09:42:20.576384Z",
     "start_time": "2025-01-06T09:42:20.573696Z"
    }
   },
   "cell_type": "code",
   "source": "stock = Spot(\"10001\", 100)",
   "id": "437a1863751b1373",
   "outputs": [],
   "execution_count": 5
  },
  {
   "metadata": {},
   "cell_type": "code",
   "outputs": [],
   "execution_count": null,
   "source": "stock.p",
   "id": "c5434b9c227754cc"
  }
 ],
 "metadata": {
  "kernelspec": {
   "display_name": "Python 3",
   "language": "python",
   "name": "python3"
  },
  "language_info": {
   "codemirror_mode": {
    "name": "ipython",
    "version": 2
   },
   "file_extension": ".py",
   "mimetype": "text/x-python",
   "name": "python",
   "nbconvert_exporter": "python",
   "pygments_lexer": "ipython2",
   "version": "2.7.6"
  }
 },
 "nbformat": 4,
 "nbformat_minor": 5
}
