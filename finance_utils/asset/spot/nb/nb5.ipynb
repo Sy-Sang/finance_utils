{
 "cells": [
  {
   "cell_type": "code",
   "id": "initial_id",
   "metadata": {
    "collapsed": true,
    "ExecuteTime": {
     "end_time": "2025-02-07T09:10:55.559036Z",
     "start_time": "2025-02-07T09:10:54.462482Z"
    }
   },
   "source": [
    "import numpy\n",
    "\n",
    "from finance_utils.namedtuples import *\n",
    "from finance_utils.uniontypes import *\n",
    "from finance_utils.asset.spot.base import Spot,ServiceChargesSpot\n",
    "# from finance_utils.asset.spot.strategy import SpotCostAveragingPlan\n",
    "from finance_utils.strategy.dca import simple_dca, price_qualified_dca\n",
    "\n",
    "from finance_utils.process.prices.gbm import RVDecoupledGBM, GBM, NormalDistribution\n",
    "from finance_utils.trader.base import Trader\n",
    "from finance_utils.trader.utility import *\n",
    "\n",
    "from matplotlib import pyplot\n",
    "\n",
    "from data_utils.stochastic_utils.distributions.nonParametricDistribution import HistogramDist, KernelMixDist, SmoothHisDist\n",
    "from data_utils.stochastic_utils.random_process.correlatedRandom import random_correlated_series\n",
    "from easy_datetime.timestamp import TimeStamp\n",
    "import tqdm\n",
    "\n",
    "from matplotlib import pyplot"
   ],
   "outputs": [],
   "execution_count": 1
  },
  {
   "metadata": {},
   "cell_type": "code",
   "outputs": [],
   "execution_count": null,
   "source": [
    "class Test:\n",
    "    def __init__(\n",
    "            self, \n",
    "            # cap=20000 * 12, \n",
    "            # rr=(0.03, 0.03), \n",
    "            # v=(0.015,0.015), \n",
    "            # corr=(0,0), \n",
    "            weekdays=22,\n",
    "            months=12,\n",
    "    ):\n",
    "        # self.cap = cap\n",
    "        # self.rr = rr\n",
    "        # self.v = v\n",
    "        # self.corr = corr\n",
    "        self.weekdays = weekdays\n",
    "        self.months = months\n",
    "        self.days = self.weekdays * self.months\n",
    "        self.stocks:list[Spot] = []\n",
    "        self.processes:list[RVDecoupledGBM] = []\n",
    "        \n",
    "    def new_processes(self, rr=(0.03, 0.03), v=(0.015, 0.015), corr=(0,0)):\n",
    "        d = []\n",
    "        for i in range(len(rr)):\n",
    "            d.append(NormalDistribution(rr[i], v[i]))\n",
    "        rs = random_correlated_series(d, corr, self.days)\n",
    "        for i in range(len(rr)):\n",
    "            self.stocks.append(\n",
    "                ServiceChargesSpot(f\"{i}\", 1, TradeDelta(\"day\", 1), 5e-5, 5e-4)\n",
    "            )\n",
    "            self.processes.append(\n",
    "                RVDecoupledGBM(f\"{i}\", rs[i], 1, TimeStamp.now().accurate_to(\"year\"), \"day\", 1)\n",
    "            )\n",
    "        \n",
    "        \n",
    "            \n",
    "    def trade(self, trade_interval = 1):\n",
    "        index_list = []\n",
    "        st_list = []\n",
    "        pt_list = []\n",
    "        trigger_set = range(0, self.days, trade_interval)\n",
    "        \n",
    "        \n",
    "        num = len(self.stocks)\n",
    "        simple_traders = [Trader(f\"s_trader_{i}\", 200000, None) for i in range(num)]\n",
    "        price_qualified_traders = [Trader(f\"p_trader_{i}\", 200000, None) for i in range(num)]\n",
    "        \n",
    "        for i, t, _ in self.processes[0].process_iter():\n",
    "            dic = {}\n",
    "            index = 0\n",
    "            for n in range(num):\n",
    "                path = self.processes[n][i]\n",
    "                # root = list(path.dic)[0]\n",
    "                # dic[root] = path.dic[root]\n",
    "                index += path.price\n",
    "                _, _ = simple_dca(self.processes[n].s0, i, t, path, self.stocks[n], simple_traders[n], cap, trigger_set)\n",
    "                _, _ = price_qualified_dca(self.processes[n].s0, i, t, path, self.stocks[n], price_qualified_traders[n], cap2, trigger_set, pr, sr)\n",
    "                \n",
    "            \n",
    "                \n",
    "            \n"
   ],
   "id": "3912865e7d667019"
  }
 ],
 "metadata": {
  "kernelspec": {
   "display_name": "Python 3",
   "language": "python",
   "name": "python3"
  },
  "language_info": {
   "codemirror_mode": {
    "name": "ipython",
    "version": 2
   },
   "file_extension": ".py",
   "mimetype": "text/x-python",
   "name": "python",
   "nbconvert_exporter": "python",
   "pygments_lexer": "ipython2",
   "version": "2.7.6"
  }
 },
 "nbformat": 4,
 "nbformat_minor": 5
}
