{
 "cells": [
  {
   "cell_type": "code",
   "id": "initial_id",
   "metadata": {
    "collapsed": true,
    "ExecuteTime": {
     "end_time": "2024-11-27T09:26:37.815233Z",
     "start_time": "2024-11-27T09:26:33.895019Z"
    }
   },
   "source": [
    "from private.db.tianrun.spot.fdw.new_energy_actual_power import market_actual_power, market_name_dict\n",
    "from private.db.tencnet.openmeteo.china_opemmeteo_forecast2 import ProvinceForecastData, forecast_slice\n",
    "\n",
    "from finance_utils.electrical2.spot.probabilistic.forecast.torch.transformer.vanilla import VanillaTransformer, vanilla_transformer_tester, vanilla_transformer_trainer\n",
    "from finance_utils.electrical2.spot.probabilistic.forecast.datasource.newenergy import PFDRoot\n",
    "import numpy\n",
    "import pickle\n",
    "from easy_datetime.timestamp import TimeStamp\n",
    "\n",
    "import torch\n",
    "from matplotlib import pyplot as plt\n",
    "from data_utils.serial_utils.series_trans_utils import MinMax, ZScore, RobustScaler"
   ],
   "outputs": [],
   "execution_count": 1
  },
  {
   "metadata": {
    "ExecuteTime": {
     "end_time": "2024-11-27T09:26:49.083687Z",
     "start_time": "2024-11-27T09:26:49.080684Z"
    }
   },
   "cell_type": "code",
   "source": "root = PFDRoot(r\"E:\\code\\github\\private\\private\\db\\tencnet\\openmeteo\\data\")",
   "id": "bc364366163a8431",
   "outputs": [],
   "execution_count": 2
  },
  {
   "metadata": {
    "ExecuteTime": {
     "end_time": "2024-11-27T09:27:52.966132Z",
     "start_time": "2024-11-27T09:27:52.698817Z"
    }
   },
   "cell_type": "code",
   "source": [
    "trange = TimeStamp.timestamp_range(\"2024-10-1\", \"2024-10-5\", \"day\", 1, True)\n",
    "for t in trange:\n",
    "    root.get_forecast(\"shanxi\", t, \"v6\")\n",
    "d_train = root.historical_forecast(1, 2, item=[\"cma_all\"])"
   ],
   "id": "9dbec9c6d1b188ae",
   "outputs": [],
   "execution_count": 6
  },
  {
   "metadata": {},
   "cell_type": "code",
   "outputs": [],
   "execution_count": null,
   "source": "",
   "id": "abd530007a66517d"
  }
 ],
 "metadata": {
  "kernelspec": {
   "display_name": "Python 3",
   "language": "python",
   "name": "python3"
  },
  "language_info": {
   "codemirror_mode": {
    "name": "ipython",
    "version": 2
   },
   "file_extension": ".py",
   "mimetype": "text/x-python",
   "name": "python",
   "nbconvert_exporter": "python",
   "pygments_lexer": "ipython2",
   "version": "2.7.6"
  }
 },
 "nbformat": 4,
 "nbformat_minor": 5
}
