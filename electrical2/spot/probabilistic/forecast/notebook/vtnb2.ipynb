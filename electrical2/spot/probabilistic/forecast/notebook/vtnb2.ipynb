{
 "cells": [
  {
   "cell_type": "code",
   "id": "initial_id",
   "metadata": {
    "collapsed": true,
    "ExecuteTime": {
     "end_time": "2024-11-26T09:26:44.887852Z",
     "start_time": "2024-11-26T09:26:42.320744Z"
    }
   },
   "source": [
    "from private.db.tianrun.spot.fdw.new_energy_actual_power import market_actual_power, market_name_dict\n",
    "# from private.db.tencnet.openmeteo.china_weather_forecast import ProvinceForecastData, forecast_slice\n",
    "from private.db.tencnet.openmeteo.china_opemmeteo_forecast2 import ProvinceForecastData, forecast_slice\n",
    "\n",
    "from finance_utils.electrical2.spot.probabilistic.forecast.torch.transformer.vanilla import VanillaTransformer, vanilla_transformer_tester, vanilla_transformer_trainer\n",
    "import numpy\n",
    "import pickle\n",
    "from easy_datetime.timestamp import TimeStamp\n",
    "\n",
    "import torch\n",
    "from matplotlib import pyplot as plt\n",
    "\n",
    "from data_utils.serial_utils.series_trans_utils import MinMax\n",
    "with open(f\"E:\\\\code\\\\github\\\\private\\\\private\\\\db\\\\tencnet\\\\openmeteo\\\\data\\\\shanx_{TimeStamp(2024, 10, 1).get_date_string()}_4.pfd\", \"rb\") as f:\n",
    "    pfd: ProvinceForecastData = pickle.loads(f.read())"
   ],
   "outputs": [],
   "execution_count": 1
  },
  {
   "metadata": {
    "ExecuteTime": {
     "end_time": "2024-11-26T09:26:53.911462Z",
     "start_time": "2024-11-26T09:26:53.908492Z"
    }
   },
   "cell_type": "code",
   "source": "cma_long = pfd.cma_forecast_matrix",
   "id": "3fac795972296c67",
   "outputs": [],
   "execution_count": 2
  },
  {
   "metadata": {},
   "cell_type": "code",
   "outputs": [],
   "execution_count": null,
   "source": "",
   "id": "474bc3738c6e2a13"
  }
 ],
 "metadata": {
  "kernelspec": {
   "display_name": "Python 3",
   "language": "python",
   "name": "python3"
  },
  "language_info": {
   "codemirror_mode": {
    "name": "ipython",
    "version": 2
   },
   "file_extension": ".py",
   "mimetype": "text/x-python",
   "name": "python",
   "nbconvert_exporter": "python",
   "pygments_lexer": "ipython2",
   "version": "2.7.6"
  }
 },
 "nbformat": 4,
 "nbformat_minor": 5
}
