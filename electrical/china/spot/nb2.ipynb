{
 "cells": [
  {
   "cell_type": "code",
   "id": "initial_id",
   "metadata": {
    "collapsed": true,
    "ExecuteTime": {
     "end_time": "2024-11-03T17:08:20.000949Z",
     "start_time": "2024-11-03T17:08:18.673140Z"
    }
   },
   "source": [
    "from finance_utils.electrical.china.spot.discrete.probabilistic_forecast import DiscreteSpot,ProbabilisticDiscreteCurve\n",
    "from finance_utils.electrical.china.spot.discrete.testback import TestBack\n",
    "from finance_utils.electrical.china.spot.rule.recycle import SampleRecycle\n",
    "import numpy"
   ],
   "outputs": [],
   "execution_count": 1
  },
  {
   "metadata": {
    "ExecuteTime": {
     "end_time": "2024-11-03T17:08:20.005899Z",
     "start_time": "2024-11-03T17:08:20.002055Z"
    }
   },
   "cell_type": "code",
   "source": [
    "from data_utils.stochastic_utils.distributions.baseclass import ABCDistribution\n",
    "from data_utils.stochastic_utils.distributions.basic_distributions import NormalDistribution"
   ],
   "id": "fcac583a431b3f3",
   "outputs": [],
   "execution_count": 2
  },
  {
   "metadata": {
    "ExecuteTime": {
     "end_time": "2024-11-03T17:08:20.012325Z",
     "start_time": "2024-11-03T17:08:20.006984Z"
    }
   },
   "cell_type": "code",
   "source": [
    "quantity_min = 0\n",
    "quantity_max = 30\n",
    "\n",
    "dayahead = ProbabilisticDiscreteCurve([\n",
    "    NormalDistribution(200, 9),\n",
    "    NormalDistribution(201, 8),\n",
    "    NormalDistribution(203, 7),\n",
    "    NormalDistribution(102, 6),\n",
    "])\n",
    "\n",
    "realtime = ProbabilisticDiscreteCurve([\n",
    "    NormalDistribution(200 * 1.5, 20),\n",
    "    NormalDistribution(201 * 1.1, 21),\n",
    "    NormalDistribution(203 * 1.2, 22),\n",
    "    NormalDistribution(102 * 0.5, 53),\n",
    "])\n",
    "\n",
    "quantity = ProbabilisticDiscreteCurve([\n",
    "    NormalDistribution(10, 5),\n",
    "    NormalDistribution(9, 3),\n",
    "    NormalDistribution(15, 1),\n",
    "    NormalDistribution(25, 2),\n",
    "], domain_min=quantity_min, domain_max=quantity_max)\n",
    "\n",
    "spot = DiscreteSpot(dayahead, realtime, quantity)"
   ],
   "id": "74d58ae386b33ec7",
   "outputs": [],
   "execution_count": 3
  },
  {
   "metadata": {
    "ExecuteTime": {
     "end_time": "2024-11-03T17:08:20.016737Z",
     "start_time": "2024-11-03T17:08:20.013525Z"
    }
   },
   "cell_type": "code",
   "source": "from matplotlib import pyplot",
   "id": "3e0aaddf263e4bff",
   "outputs": [],
   "execution_count": 4
  },
  {
   "metadata": {
    "ExecuteTime": {
     "end_time": "2024-11-03T17:08:20.021640Z",
     "start_time": "2024-11-03T17:08:20.018940Z"
    }
   },
   "cell_type": "code",
   "source": [
    "trigger_rate = 0.09\n",
    "punishment_rate = 0.5"
   ],
   "id": "737669583e6b49bd",
   "outputs": [],
   "execution_count": 5
  },
  {
   "metadata": {
    "ExecuteTime": {
     "end_time": "2024-11-03T17:08:20.042154Z",
     "start_time": "2024-11-03T17:08:20.022201Z"
    }
   },
   "cell_type": "code",
   "source": [
    "testback = TestBack(spot.random_sample(n=50, epoch=50, use_random=True))\n",
    "submitt_control = spot.quantity.value_list"
   ],
   "id": "8c7e4bb60bf04c0b",
   "outputs": [],
   "execution_count": 6
  },
  {
   "metadata": {
    "ExecuteTime": {
     "end_time": "2024-11-03T17:08:23.283788Z",
     "start_time": "2024-11-03T17:08:20.043275Z"
    }
   },
   "cell_type": "code",
   "source": [
    "submitt_test = testback.continuous_random_grid_search(\n",
    "    spot.quantity.value_list, delta_min=-20, delta_max=20, epoch=20, rounds=20, submitted_min=0, \n",
    "    submitted_max=30, recycle=SampleRecycle, trigger_rate=trigger_rate, punishment_rate=punishment_rate)[-1][0]\n",
    "submitt_test2 = testback.random_grid_search(\n",
    "    submitted_list= spot.quantity.value_list, \n",
    "    delta_min=-20, \n",
    "    delta_max=20, \n",
    "    epoch=400, \n",
    "    submitted_min=0, \n",
    "    submitted_max=30, \n",
    "    recycle=SampleRecycle, trigger_rate=trigger_rate, punishment_rate=punishment_rate\n",
    ")[0]\n",
    "submitt_test3 = testback.differential_evolution__search(\n",
    "    spot.quantity.value_list,\n",
    "    delta_min=-20, \n",
    "    delta_max=20,\n",
    "    submitted_min=0, \n",
    "    submitted_max=30,\n",
    "    recycle=SampleRecycle, \n",
    "    trigger_rate=trigger_rate,  \n",
    "    punishment_rate=punishment_rate\n",
    ")\n",
    "submitt_test4 = spot.differential_evolution__search(\n",
    "    spot.quantity.value_list,\n",
    "    delta_min=-20, \n",
    "    delta_max=20,\n",
    "    submitted_min=0, \n",
    "    submitted_max=30,\n",
    "    recycle=SampleRecycle, \n",
    "    trigger_rate=trigger_rate,  \n",
    "    punishment_rate=punishment_rate\n",
    ")\n",
    "print(spot.quantity.value_list)\n",
    "print([submitt_test3[0].tolist(), submitt_test3[1]])\n",
    "print([submitt_test4[0].tolist(), submitt_test4[1]])\n",
    "print(submitt_test)\n",
    "print(submitt_test2)"
   ],
   "id": "f6f3355b3d18dda1",
   "outputs": [
    {
     "name": "stdout",
     "output_type": "stream",
     "text": [
      "[10, 9, 15, 25]\n",
      "[[0.0719567513347954, 27.528686825897754, 0.16705267655034461, 29.803626555136862], np.float64(9075.553244799388)]\n",
      "[[0.23663273842798027, 23.19008357609122, 0.3984130668225365, 29.997368396559104], np.float64(10942.806263989289)]\n",
      "[0.9223088754288611, 5.6865730978495606, 21.311261736041992, 30.0]\n",
      "[2.276732068782664, 18.180161667204064, 14.238772646920328, 30]\n"
     ]
    }
   ],
   "execution_count": 7
  },
  {
   "metadata": {
    "ExecuteTime": {
     "end_time": "2024-11-03T17:08:23.290074Z",
     "start_time": "2024-11-03T17:08:23.284908Z"
    }
   },
   "cell_type": "code",
   "source": [
    "noise_dayahead = ProbabilisticDiscreteCurve([\n",
    "    NormalDistribution(200, 9 * 1.5),\n",
    "    NormalDistribution(201, 8 * 1.5),\n",
    "    NormalDistribution(203, 7 * 1.5),\n",
    "    NormalDistribution(102, 6 * 1.5),\n",
    "])\n",
    "\n",
    "noise_realtime = ProbabilisticDiscreteCurve([\n",
    "    NormalDistribution(200 * 1.2, 20 * 1.5),\n",
    "    NormalDistribution(201 * 1.1, 21 * 1.5),\n",
    "    NormalDistribution(203 * 1.2, 22 * 1.5),\n",
    "    NormalDistribution(102 * 0.8, 53 * 1.5),\n",
    "])\n",
    "\n",
    "noise_quantity = ProbabilisticDiscreteCurve([\n",
    "    NormalDistribution(10, 5 * 1.5),\n",
    "    NormalDistribution(9, 3 * 1.5),\n",
    "    NormalDistribution(15, 1 * 1.5),\n",
    "    NormalDistribution(25, 2 * 1.5),\n",
    "], domain_min=quantity_min, domain_max=quantity_max)\n",
    "noise_spot = DiscreteSpot(dayahead, realtime, quantity)"
   ],
   "id": "57678a6633f19398",
   "outputs": [],
   "execution_count": 8
  },
  {
   "metadata": {
    "ExecuteTime": {
     "end_time": "2024-11-03T17:08:25.140132Z",
     "start_time": "2024-11-03T17:08:23.291132Z"
    }
   },
   "cell_type": "code",
   "source": [
    "rec = []\n",
    "for _ in range(100):\n",
    "    # temp_testback = TestBack(noise_spot.random_sample(n=50, epoch=50, use_random=True))\n",
    "    temp_testback = TestBack(spot.random_sample(n=50, epoch=50, use_random=True))\n",
    "    rec.append([\n",
    "        temp_testback.testback_yield(submitt_control, recycle=SampleRecycle, trigger_rate=trigger_rate, punishment_rate=punishment_rate).mean(),\n",
    "        temp_testback.testback_yield(submitt_test, recycle=SampleRecycle, trigger_rate=trigger_rate, punishment_rate=punishment_rate).mean(),\n",
    "        temp_testback.testback_yield(submitt_test3[0], recycle=SampleRecycle, trigger_rate=trigger_rate, punishment_rate=punishment_rate).mean(),\n",
    "        temp_testback.testback_yield(submitt_test4[0], recycle=SampleRecycle, trigger_rate=trigger_rate, punishment_rate=punishment_rate).mean(),\n",
    "    ])\n",
    "print(rec)"
   ],
   "id": "3644b0fb6b9f6d65",
   "outputs": [
    {
     "name": "stdout",
     "output_type": "stream",
     "text": [
      "[[np.float64(7460.58132886957), np.float64(7850.131625157968), np.float64(8120.60950137655), np.float64(7757.123583444855)], [np.float64(7374.6048885085165), np.float64(8053.79263957854), np.float64(8265.773576368572), np.float64(7819.562080210254)], [np.float64(7804.621822313667), np.float64(8481.365244524664), np.float64(8640.64428283915), np.float64(7538.276589068386)], [np.float64(7491.681852299716), np.float64(8344.532534443342), np.float64(8754.421856941954), np.float64(7578.868755764598)], [np.float64(8677.78534781245), np.float64(8706.796029911295), np.float64(8992.733493315376), np.float64(7498.824620811389)], [np.float64(7192.2070444137735), np.float64(7901.240974886499), np.float64(8294.160054479586), np.float64(7689.195397492545)], [np.float64(8462.10922886047), np.float64(9388.743986555251), np.float64(9546.712868953611), np.float64(7449.170359825924)], [np.float64(8333.750327499545), np.float64(8928.98934509598), np.float64(9278.912367077368), np.float64(7901.827730239838)], [np.float64(8048.363324480842), np.float64(8299.022740627715), np.float64(9006.762296106659), np.float64(7647.675437670743)], [np.float64(7405.839680372438), np.float64(7950.918126003308), np.float64(8462.632847496798), np.float64(7620.827141954889)], [np.float64(7792.2110098629955), np.float64(8183.288698877288), np.float64(8625.812360768849), np.float64(7780.0099850952365)], [np.float64(8113.752556785452), np.float64(8755.511959313908), np.float64(8999.943055853228), np.float64(7454.093387188701)], [np.float64(6831.00496105922), np.float64(7906.946592084751), np.float64(8463.110624671897), np.float64(7823.8055702310285)], [np.float64(7666.07338118907), np.float64(8195.430574052885), np.float64(8654.238051701315), np.float64(7718.270374707441)], [np.float64(8063.984491346419), np.float64(8591.597052896384), np.float64(8876.045256359152), np.float64(7695.814465297104)], [np.float64(8147.953722141962), np.float64(8263.938784989945), np.float64(8618.510973156157), np.float64(7017.467905352208)], [np.float64(7716.064181035264), np.float64(8539.25291322947), np.float64(8736.504684059068), np.float64(7920.530643696398)], [np.float64(7656.962701300953), np.float64(8286.726902611335), np.float64(8735.589605522327), np.float64(7371.702598700486)], [np.float64(7539.193630674092), np.float64(8381.286492884385), np.float64(8769.933726470475), np.float64(8021.733356505041)], [np.float64(8556.288848580421), np.float64(9224.991763257533), np.float64(9452.219989684454), np.float64(8152.320101583324)], [np.float64(7802.3416660206885), np.float64(8315.368210321752), np.float64(8718.24271401201), np.float64(8105.341991641782)], [np.float64(7885.387407480265), np.float64(8160.667249802496), np.float64(8472.226787403726), np.float64(7412.7548799982005)], [np.float64(8218.660363263834), np.float64(8645.953534666418), np.float64(9051.656806007766), np.float64(7019.479532464473)], [np.float64(7535.221752478393), np.float64(8225.386596415343), np.float64(8583.793480759368), np.float64(7719.489752706798)], [np.float64(8025.707528053792), np.float64(8535.14063926389), np.float64(8974.760618215132), np.float64(7341.542849878649)], [np.float64(8028.308073537168), np.float64(8394.143719429812), np.float64(8634.485877447127), np.float64(7465.50720304696)], [np.float64(7892.112695937552), np.float64(8244.195057688825), np.float64(8468.700602590177), np.float64(7295.443724909158)], [np.float64(7420.257807910613), np.float64(8139.828181866993), np.float64(8545.604525205163), np.float64(7744.360160854047)], [np.float64(7804.570550093394), np.float64(8443.29738624213), np.float64(8823.835499619185), np.float64(7815.315155910291)], [np.float64(7226.540538287797), np.float64(7965.891703012664), np.float64(8127.876648914689), np.float64(7451.855991863534)], [np.float64(7231.277990982473), np.float64(8061.17223205329), np.float64(8204.961272875551), np.float64(7363.595028506167)], [np.float64(7365.591136926934), np.float64(8400.172411913112), np.float64(8509.773086423651), np.float64(7905.953432103116)], [np.float64(7846.574512101995), np.float64(8448.494725451175), np.float64(8771.544622144736), np.float64(7573.560197338122)], [np.float64(7883.619341396189), np.float64(8400.916372593718), np.float64(8903.896398140414), np.float64(7684.900090378145)], [np.float64(7518.362886181609), np.float64(7827.170346192218), np.float64(7970.820902383129), np.float64(7747.84595570467)], [np.float64(7713.983762650851), np.float64(8228.338994199283), np.float64(8683.582940749548), np.float64(7845.043739753534)], [np.float64(8178.973227011587), np.float64(8336.43203217057), np.float64(8450.209862925183), np.float64(7464.6539595475215)], [np.float64(7708.449619917881), np.float64(8576.439135423307), np.float64(8804.318085891111), np.float64(7583.317202045072)], [np.float64(7940.421482175989), np.float64(8526.80735908937), np.float64(8746.427848767436), np.float64(7630.382885485236)], [np.float64(7730.8945679240815), np.float64(8275.953292677217), np.float64(8843.448003492878), np.float64(8044.384886106602)], [np.float64(7771.525314711067), np.float64(8248.771360341549), np.float64(8610.746216438112), np.float64(7888.510843284597)], [np.float64(7169.24257892384), np.float64(7913.695657682296), np.float64(8033.836969515068), np.float64(8134.850458728278)], [np.float64(8069.904915659544), np.float64(8674.77846185913), np.float64(9047.755540126587), np.float64(7667.163734533395)], [np.float64(7851.356970418936), np.float64(8367.716045178882), np.float64(8922.711267319297), np.float64(8235.724080554579)], [np.float64(7574.109753797222), np.float64(7934.189668635396), np.float64(8220.047967500865), np.float64(7345.274508829454)], [np.float64(7690.567549567789), np.float64(8250.368443399346), np.float64(8680.176153917679), np.float64(7446.209982713941)], [np.float64(7930.556858839579), np.float64(7970.761595908507), np.float64(8088.35619804075), np.float64(7620.883686403936)], [np.float64(7752.8817401693195), np.float64(8215.736547982939), np.float64(8686.893768941258), np.float64(7476.517182738862)], [np.float64(7580.1544333461125), np.float64(8466.341120267458), np.float64(9092.03795722429), np.float64(7821.348179952536)], [np.float64(7352.5601811297065), np.float64(8422.020944970316), np.float64(8813.339455375159), np.float64(8102.142809454748)], [np.float64(7912.989695980455), np.float64(8780.631988021458), np.float64(9156.042944503019), np.float64(7791.213281011404)], [np.float64(8477.079971786794), np.float64(9204.857119558343), np.float64(9512.11305735887), np.float64(7524.642647727859)], [np.float64(8049.606876388559), np.float64(8715.995321549264), np.float64(9290.152751612139), np.float64(7664.112431782136)], [np.float64(7630.8575983204655), np.float64(8248.833525851966), np.float64(8689.211839663558), np.float64(7776.227458720603)], [np.float64(7936.594937590596), np.float64(8525.061938687493), np.float64(8736.035464517596), np.float64(7784.4031208951155)], [np.float64(7775.122820367495), np.float64(8323.160967582604), np.float64(8622.714785482025), np.float64(7375.730313766414)], [np.float64(7652.727056112332), np.float64(8018.7746440057), np.float64(8324.795312909126), np.float64(7070.74465913091)], [np.float64(7898.964848672773), np.float64(8218.548146621351), np.float64(8353.708884048063), np.float64(7966.47257257855)], [np.float64(8102.757889122329), np.float64(7994.6341811509465), np.float64(8553.675486685059), np.float64(7467.8945389997225)], [np.float64(8190.230475908129), np.float64(8509.73463871477), np.float64(8568.456278966285), np.float64(7981.759488950304)], [np.float64(7601.391097720242), np.float64(8362.9633165955), np.float64(8580.037190511996), np.float64(7912.154671495779)], [np.float64(7459.716668765018), np.float64(8268.740818973107), np.float64(8685.258179732213), np.float64(7819.615493189596)], [np.float64(7360.3659341523335), np.float64(8320.219465148422), np.float64(8483.810880703963), np.float64(7775.021996607322)], [np.float64(7752.311107585664), np.float64(7950.630813555925), np.float64(8273.712146944581), np.float64(7371.667992964866)], [np.float64(8252.089948099245), np.float64(8903.924943734257), np.float64(9276.831831964091), np.float64(7188.992466768477)], [np.float64(7667.977152306154), np.float64(8320.81035397263), np.float64(8367.993241776237), np.float64(7740.20690122897)], [np.float64(8097.256529170937), np.float64(8287.040542955703), np.float64(8910.456783300413), np.float64(7488.985102973313)], [np.float64(7650.5059497244165), np.float64(8490.176289453004), np.float64(8804.453607284715), np.float64(8361.155435844314)], [np.float64(7786.626324554468), np.float64(8618.978899895646), np.float64(8657.313859852262), np.float64(7780.1504125044185)], [np.float64(8103.524247781772), np.float64(9186.87246799739), np.float64(9621.416430197318), np.float64(7888.16901947193)], [np.float64(7779.655472795413), np.float64(8317.513065171363), np.float64(8612.850525200249), np.float64(7347.976655244346)], [np.float64(7852.494096450468), np.float64(8352.46678604672), np.float64(8920.355966108631), np.float64(7865.148330627358)], [np.float64(7545.03233500645), np.float64(8352.199607142758), np.float64(8455.637403112503), np.float64(7524.685253481074)], [np.float64(7562.275768644219), np.float64(8125.74626510214), np.float64(8517.505711122818), np.float64(7471.190304776921)], [np.float64(7559.90269853709), np.float64(8361.435384355022), np.float64(8663.835038839012), np.float64(7606.636670241345)], [np.float64(7904.618672889657), np.float64(7778.66843082722), np.float64(8137.814193150187), np.float64(7276.42283688664)], [np.float64(7140.984613267634), np.float64(7723.389022332444), np.float64(8279.288372961179), np.float64(7628.747998454795)], [np.float64(8218.195970647694), np.float64(8866.235947774516), np.float64(9158.957770406005), np.float64(7379.656575230608)], [np.float64(7485.351713985766), np.float64(8220.333511814788), np.float64(8393.158986453751), np.float64(7632.28639480553)], [np.float64(8297.799617119597), np.float64(8738.467719584512), np.float64(9172.677814267063), np.float64(7300.7054926907085)], [np.float64(8277.8509477145), np.float64(8807.739151360207), np.float64(9414.989296551854), np.float64(7248.758892991713)], [np.float64(7609.281348554363), np.float64(7779.8404096083295), np.float64(7992.6137243696), np.float64(7633.678782718419)], [np.float64(7351.415867246076), np.float64(8302.032426448945), np.float64(8422.379810918554), np.float64(7598.791427745938)], [np.float64(8018.047653910575), np.float64(8765.665668193124), np.float64(8853.29386893445), np.float64(7739.431455723289)], [np.float64(7599.364727671336), np.float64(7919.755310831682), np.float64(8393.476241204806), np.float64(7314.093750669514)], [np.float64(7877.413843573541), np.float64(8301.804909471964), np.float64(8812.50468887424), np.float64(6982.749099185955)], [np.float64(7780.9270470451875), np.float64(8002.843144129107), np.float64(8515.763739565413), np.float64(7561.695092591946)], [np.float64(7625.954270120506), np.float64(8139.36518438666), np.float64(8283.338966370991), np.float64(8205.601990973346)], [np.float64(7101.521469351265), np.float64(7989.376838954727), np.float64(8210.332867690078), np.float64(7774.984751604561)], [np.float64(7977.304038149995), np.float64(8341.851185972386), np.float64(9053.835512786562), np.float64(7616.03910163956)], [np.float64(7698.301873555314), np.float64(8411.176375641055), np.float64(8520.92937137458), np.float64(7542.836433791918)], [np.float64(7848.980060807967), np.float64(8470.302388221276), np.float64(9055.423025394542), np.float64(7872.0807025084005)], [np.float64(8397.741186257192), np.float64(8619.584084196938), np.float64(9055.967127228856), np.float64(7782.327812889068)], [np.float64(7211.064874246735), np.float64(7923.69025572837), np.float64(8359.824758225517), np.float64(7820.9061630380165)], [np.float64(7420.247270574742), np.float64(8030.766028006852), np.float64(8327.801279909043), np.float64(6900.371604864914)], [np.float64(7655.928056140203), np.float64(8240.689340283494), np.float64(8673.069025629413), np.float64(7393.719568532404)], [np.float64(7435.449874866772), np.float64(8028.079827586406), np.float64(8331.528787218389), np.float64(7550.231993743481)], [np.float64(7832.853328723201), np.float64(8376.874205493341), np.float64(8845.722132449235), np.float64(7878.02463793736)], [np.float64(8168.080673875742), np.float64(9066.16517596083), np.float64(9022.380572367892), np.float64(7580.520163111947)], [np.float64(6927.443997027661), np.float64(7538.650869399974), np.float64(8178.849495624812), np.float64(7964.885062037442)]]\n"
     ]
    }
   ],
   "execution_count": 9
  },
  {
   "metadata": {
    "ExecuteTime": {
     "end_time": "2024-11-03T17:08:25.322808Z",
     "start_time": "2024-11-03T17:08:25.141213Z"
    }
   },
   "cell_type": "code",
   "source": [
    "y_hat = [\n",
    "    numpy.mean(\n",
    "        temp_testback.testback_yield([i] * 4, recycle=SampleRecycle, trigger_rate=trigger_rate, punishment_rate=punishment_rate).yield_curve\n",
    "    ) for i in range(1,20)\n",
    "]\n",
    "y_control = [\n",
    "    numpy.mean(\n",
    "        temp_testback.testback_yield(spot.quantity.value_list, recycle=SampleRecycle, trigger_rate=trigger_rate, punishment_rate=punishment_rate).yield_curve\n",
    "    ) for i in range(1,20)\n",
    "]\n",
    "y_search = [\n",
    "    numpy.mean(\n",
    "        temp_testback.testback_yield(submitt_test3[0],\n",
    "                                recycle=SampleRecycle, trigger_rate=trigger_rate, punishment_rate=punishment_rate).yield_curve\n",
    "    ) for i in range(1,20)\n",
    "]\n",
    "# pyplot.plot(y)\n",
    "pyplot.plot(y_hat)\n",
    "pyplot.plot(y_control)\n",
    "pyplot.plot(y_search)\n",
    "pyplot.legend([\"y\",\"control\",\"search\"])\n",
    "pyplot.show()"
   ],
   "id": "7af5229d7fe638fd",
   "outputs": [
    {
     "data": {
      "text/plain": [
       "<Figure size 640x480 with 1 Axes>"
      ],
      "image/png": "[encoded data removed]"
     },
     "metadata": {},
     "output_type": "display_data"
    }
   ],
   "execution_count": 10
  },
  {
   "metadata": {
    "ExecuteTime": {
     "end_time": "2024-11-03T17:08:25.341384Z",
     "start_time": "2024-11-03T17:08:25.323933Z"
    }
   },
   "cell_type": "code",
   "source": "print(noise_quantity.diff_random_sample(n=100, epoch=100).tolist())",
   "id": "d316c68170dde9f7",
   "outputs": [
    {
     "name": "stdout",
     "output_type": "stream",
     "text": [
      "[[14.854784073337228, 0.0, 0.0, 4.911011817265904], [20.550883697242295, 23.765698342977302, 28.42589027629454, 30.0], [18.463461157465943, 17.8416515619439, 18.479927885864942, 27.733702372705068], [6.380139559784672, 4.386189877746315, 10.599512103828955, 21.774159456068432], [11.583976061038145, 14.556856201997519, 22.44543498294233, 30.0], [11.405532473463541, 14.22309858329855, 15.488335065855928, 26.65370385269977], [12.401757949319808, 18.755906322956296, 23.85229565316677, 30.0], [0.0, 0.0, 3.620309412125067, 13.059805694493779], [5.423132772653777, 7.250499937388753, 16.478664766356196, 24.56707785562147], [6.059157434174724, 10.446005348598323, 17.13467968568887, 25.797604903576115], [0.013062303187522772, 0.0, 1.2046434092861324, 12.288268851702409], [0.0, 1.3618387704769122, 4.746393119281047, 15.757153023557878], [0.0, 0.0, 2.9942135165705617, 14.953451999710136], [19.809407738649526, 20.400975679668832, 28.318847236642714, 30.0], [3.4902932233736568, 0.0, 8.649618889382378, 20.58590949861925], [4.380017807269718, 2.1441113734167216, 10.384647716269095, 19.950198773977156], [12.07607811473219, 6.117331509125451, 10.656306707631945, 20.209821028474337], [12.778306986598547, 10.50453403468035, 14.725895220342327, 23.898878059784224], [27.303443417695973, 26.063043608486907, 30.0, 30.0], [0.0, 0.0, 0.0, 6.996948866136371], [29.897666174676687, 27.687300582126475, 30.0, 30.0], [12.650220716201261, 9.927746010278904, 0.0, 2.7108325477663353], [9.889000811795405, 8.651079554256754, 16.16483206842572, 26.015613863916712], [26.020921740367303, 28.668492081610747, 30.0, 30.0], [6.429976253027396, 3.94086286536686, 8.371466947375476, 17.920942969621514], [4.057427147664209, 0.5946764814975509, 6.65610958547943, 14.640643104272648], [6.267567003375423, 6.560998499615194, 9.887467016536014, 21.334916125485925], [22.62323399479176, 24.69135093844752, 30.0, 30.0], [8.533280663766371, 9.625004528454921, 8.716557286017563, 19.064496765284595], [21.66931838960261, 16.42848034334478, 26.726044312116272, 30.0], [14.835989827569009, 9.53644547489246, 19.68402672011355, 30.0], [18.259163437657683, 14.727377955377037, 21.420826361966796, 30.0], [10.023684020259156, 8.493929685819433, 19.537784958659447, 30.0], [13.714751646291692, 13.236388215199788, 20.615778730225394, 30.0], [3.1614752446915144, 0.29871718291651117, 2.28757382006893, 12.63761481196073], [12.001271923286566, 13.27079452371392, 22.6253624755275, 30.0], [10.040452208786297, 8.18599293844138, 15.519135519311925, 28.256493003883115], [11.950296449759778, 3.2284069722735786, 15.324858702731191, 25.44141250472209], [3.2887575835338936, 0.0, 3.912143919676356, 12.808489080975477], [14.798738980894154, 17.03507182225063, 23.2359725386697, 30.0], [23.780285373534717, 20.334462006991735, 26.56492919623547, 30.0], [19.09405962148813, 21.90817276590165, 29.32155783535836, 30.0], [12.781976971392602, 13.87716274872423, 18.57153548025864, 30.0], [16.37219710772433, 15.416925994129528, 17.591466802300882, 29.874389274671216], [7.8624828066880355, 1.2499461343330793, 12.79430823460705, 24.37448586721781], [2.8104905157199163, 0.0, 6.472896046056512, 16.14313333488396], [0.3475662491895335, 0.0, 4.3521668028912055, 15.905238565632896], [3.4337782554466285, 2.1898292866857743, 11.143611054255985, 20.86132928738087], [9.410780062115776, 8.917920101904967, 15.596692664589485, 24.201858778539986], [7.671458082264012, 7.286613142045177, 10.467744826941557, 23.389623072978715], [12.342822778255659, 17.409137671253653, 24.421260095313844, 30.0], [7.634741820788435, 6.427430501459872, 11.10683489411685, 19.561771947801063], [11.03210345809778, 9.920641117407152, 15.857908294016475, 23.960451075417357], [26.991953983315423, 25.717602528442143, 30.0, 30.0], [4.0651540941858055, 6.19160266580253, 10.50031774337473, 22.872460433083475], [6.601207767751956, 0.3946345573611998, 4.016473333800494, 14.642178425211485], [9.85374148634328, 9.663872250993746, 20.468084752137862, 30.0], [1.2040722084009836, 5.655719653391054, 15.838531458725814, 26.637284181044436], [2.0732686098856474, 2.813052808377635, 11.172225594001333, 22.007918717451645], [2.504563865106216, 3.858137757774121, 9.576674605195844, 19.62673280144059], [21.955295462454, 19.827584970939853, 26.544898389403016, 30.0], [14.904447239600783, 18.02198143213374, 21.16074698334108, 29.964318359593335], [6.670629388573264, 2.1157393032972083, 11.1873328494843, 20.538264750129905], [4.3973108553258635, 1.9800139899052787, 6.584209223812126, 16.191060427921343], [16.447935057595412, 20.693702289058393, 29.676747553993593, 30.0], [14.581335299205875, 19.13399637177693, 19.226847021693217, 30.0], [15.904967061055245, 14.032782143681938, 17.95345146891025, 26.23272280094881], [10.620476456856013, 8.583743542058137, 14.2050056839679, 22.282039880232652], [22.720545210160786, 26.04380147568572, 30.0, 30.0], [17.226853683841952, 15.344128484321821, 22.163088740214306, 30.0], [15.2771920121615, 13.269664722573054, 17.250861856466948, 29.428246394466058], [10.829944695123395, 10.585949088247206, 14.016830053281092, 25.455045608052657], [13.448984634077505, 13.088372782984239, 19.473262026842825, 29.74413707014279], [13.693645812665629, 13.168255395443618, 23.916500962907186, 30.0], [14.616612006819466, 11.81085531915537, 25.23744862836199, 30.0], [17.696671979256156, 16.524018424365554, 24.079635328413325, 30.0], [6.581109785780344, 7.139022055109163, 14.013969358111389, 21.888088006447326], [8.795231943469346, 0.0, 0.0, 0.0], [8.796748922368986, 9.205780944595965, 18.59118434899039, 29.466285915089326], [12.116969783134614, 6.732448637497054, 7.438024882337633, 18.804873330831334], [11.755243568079104, 12.704510567375795, 22.997390591764038, 30.0], [0.0, 0.0, 1.4154768141462162, 13.103009658494177], [8.837351257000332, 9.4449565730092, 16.324137618869717, 25.64175375275051], [16.165311145505804, 14.354357168018035, 21.902209252672606, 30.0], [9.550138112217365, 10.41523131616679, 11.935377919495952, 23.02008099696083], [0.0, 1.9648392939241743, 7.080494675106154, 17.17728112900312], [17.24066533140015, 18.96174434786266, 24.57930662358769, 30.0], [6.630330530929742, 3.1740683243117456, 10.280823070864493, 19.2635130380452], [13.948549691363075, 17.216200063854007, 18.92045230408291, 27.85808630233634], [8.09983864115107, 11.499880057735147, 14.677581671788559, 23.689652934072512], [17.7480661189158, 16.026268263134778, 22.07662424279104, 30.0], [13.93398958643629, 8.494337246607055, 9.714321260080972, 17.936918481551263], [8.785004730630744, 7.946608763102136, 18.008283490528186, 29.208208384885424], [3.6872670792404305, 0.5350131339447017, 6.180676581084206, 14.525755281146424], [17.352003874548217, 19.905792753994763, 28.917077120510378, 30.0], [23.350237664404915, 19.478007826378658, 24.79072825166278, 30.0], [9.403802335554108, 8.015387846431576, 10.888770466021695, 20.955052514109855], [6.00312146477193, 3.5561212258890387, 8.8052980000703, 21.752238131755192], [8.95369648970678, 13.726164186200819, 23.802612453044624, 30.0], [0.0, 0.0, 8.222043316681983, 20.951807929253306]]\n"
     ]
    }
   ],
   "execution_count": 11
  },
  {
   "metadata": {
    "ExecuteTime": {
     "end_time": "2024-11-03T17:08:25.345158Z",
     "start_time": "2024-11-03T17:08:25.342487Z"
    }
   },
   "cell_type": "code",
   "source": "",
   "id": "2e778fc1b97df252",
   "outputs": [],
   "execution_count": 11
  }
 ],
 "metadata": {
  "kernelspec": {
   "display_name": "Python 3",
   "language": "python",
   "name": "python3"
  },
  "language_info": {
   "codemirror_mode": {
    "name": "ipython",
    "version": 2
   },
   "file_extension": ".py",
   "mimetype": "text/x-python",
   "name": "python",
   "nbconvert_exporter": "python",
   "pygments_lexer": "ipython2",
   "version": "2.7.6"
  }
 },
 "nbformat": 4,
 "nbformat_minor": 5
}
