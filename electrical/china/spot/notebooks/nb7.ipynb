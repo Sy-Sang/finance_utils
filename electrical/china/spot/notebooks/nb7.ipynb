{
 "cells": [
  {
   "cell_type": "code",
   "id": "initial_id",
   "metadata": {
    "collapsed": true,
    "ExecuteTime": {
     "end_time": "2024-11-15T09:45:34.530675Z",
     "start_time": "2024-11-15T09:45:34.527392Z"
    }
   },
   "source": [
    "from finance_utils.electrical.china.spot.measure.internal.forecast import ForecastCurve\n",
    "from finance_utils.electrical.china.spot.measure.trade import ForecastMarket\n",
    "\n",
    "import numpy\n",
    "from data_utils.stochastic_utils.distributions.baseclass import ABCDistribution\n",
    "from data_utils.stochastic_utils.distributions.basic_distributions import NormalDistribution\n",
    "from data_utils.stochastic_utils.distributions.nonParametricDistribution import HistogramDist, LogHisDist\n",
    "from data_utils.stochastic_utils.distributions.discrete.basic import DiscreteDistribution\n",
    "from matplotlib import pyplot\n",
    "import tqdm\n",
    "import json\n",
    "\n",
    "from easy_utils.db_utils.mysql import MySQLLink\n",
    "from easy_utils.obj_utils.enumerable_utils import flatten\n",
    "\n",
    "from private.db import mysql_94j6daxc"
   ],
   "outputs": [],
   "execution_count": 15
  },
  {
   "metadata": {
    "ExecuteTime": {
     "end_time": "2024-11-15T09:45:36.039059Z",
     "start_time": "2024-11-15T09:45:34.532679Z"
    }
   },
   "cell_type": "code",
   "source": [
    "quantity_min = 0\n",
    "quantity_max = 30\n",
    "submitted_min = 0\n",
    "submitted_max = 30\n",
    "trigger_rate = 0.05\n",
    "punishment_rate = 0.5\n",
    "\n",
    "db = MySQLLink(\n",
    "    url=mysql_94j6daxc[\"url\"],\n",
    "    port=mysql_94j6daxc[\"port\"],\n",
    "    user=mysql_94j6daxc[\"user\"],\n",
    "    pwd=mysql_94j6daxc[\"pwd\"],\n",
    "    db=\"tianrun_etrade\"\n",
    ")\n",
    "d,_,__ = db.select(\n",
    "    \"select time_order,dayahead_statement_price,realtime_statement_price,dayahead_clearing_quantity,realtime_clearing_quantity \"\n",
    "    \"from spot_real \"\n",
    "    \"where station_id='14013006' and date between '2024-5-1' and '2024-8-1'\"\n",
    "    \"order by date,time_order\"\n",
    ")\n",
    "historical_array = numpy.array(d)"
   ],
   "id": "26c0ec947e54cae1",
   "outputs": [],
   "execution_count": 16
  },
  {
   "metadata": {
    "ExecuteTime": {
     "end_time": "2024-11-15T09:45:36.048307Z",
     "start_time": "2024-11-15T09:45:36.040082Z"
    }
   },
   "cell_type": "code",
   "source": [
    "def get_slice(xlist, order, slice) -> numpy.ndarray:\n",
    "    return xlist[numpy.where(xlist[:,0]==order)][:,slice]\n",
    "\n",
    "historcial_dayahead = ForecastCurve(\n",
    "    [\n",
    "        HistogramDist(\n",
    "            get_slice(historical_array, i, 1)\n",
    "        ) for i in range(1,5)\n",
    "    ]\n",
    ")\n",
    "historical_realtime = ForecastCurve(\n",
    "    [\n",
    "        HistogramDist(\n",
    "            get_slice(historical_array, i, 2)\n",
    "        ) for i in range(1,5)\n",
    "    ]\n",
    ")\n",
    "\n",
    "historical_quantity = ForecastCurve(\n",
    "    [\n",
    "        HistogramDist(\n",
    "            numpy.sum(get_slice(historical_array, 1, [3,4]), axis=1)\n",
    "        ) for i in range(1,5)\n",
    "    ]\n",
    ")\n",
    "historical_market = ForecastMarket(historcial_dayahead, historical_realtime, historical_quantity)"
   ],
   "id": "284ace96a435673c",
   "outputs": [],
   "execution_count": 17
  },
  {
   "metadata": {
    "ExecuteTime": {
     "end_time": "2024-11-15T09:45:36.099632Z",
     "start_time": "2024-11-15T09:45:36.048307Z"
    }
   },
   "cell_type": "code",
   "source": [
    "s_train = historical_market.self_related_random_sample([0.9] * 4, 100)\n",
    "numpy.max(flatten(s_train.quantity_sample))"
   ],
   "id": "253fdec48252a623",
   "outputs": [
    {
     "data": {
      "text/plain": [
       "19.114037995936332"
      ]
     },
     "execution_count": 18,
     "metadata": {},
     "output_type": "execute_result"
    }
   ],
   "execution_count": 18
  },
  {
   "metadata": {
    "ExecuteTime": {
     "end_time": "2024-11-15T09:45:41.825272Z",
     "start_time": "2024-11-15T09:45:36.100635Z"
    }
   },
   "cell_type": "code",
   "source": [
    "print(\n",
    "    historical_market.self_related_random_sample([0.9] * 4, 100).differential_evolution__search(submitted_min=0,submitted_max=20,trigger_rate=trigger_rate, punishment_rate=punishment_rate)\n",
    ")"
   ],
   "id": "b21d718f293f6911",
   "outputs": [
    {
     "name": "stdout",
     "output_type": "stream",
     "text": [
      "SearchResult(y=array([19.86701772,  0.1492182 ,  6.66549994,  0.52190155]), total=473008.56672625925)\n"
     ]
    }
   ],
   "execution_count": 19
  },
  {
   "metadata": {
    "ExecuteTime": {
     "end_time": "2024-11-15T09:54:45.705061Z",
     "start_time": "2024-11-15T09:54:44.254878Z"
    }
   },
   "cell_type": "code",
   "source": [
    "d2,_,__ = db.select(\n",
    "    \"select time_order,dayahead_statement_price,realtime_statement_price,dayahead_clearing_quantity,realtime_clearing_quantity \"\n",
    "    \"from spot_real \"\n",
    "    \"where station_id='14013006' and date between '2024-8-1' and '2024-9-1'\"\n",
    "    \"order by date,time_order\"\n",
    ")\n",
    "future_array = numpy.array(d2)\n",
    "future_dayahead = [\n",
    "    get_slice(future_array, i, 1) for i in range(1,5)\n",
    "]\n",
    "future_dayahead_curve = ForecastCurve([HistogramDist(d) for d in future_dayahead])\n",
    "\n",
    "future_realtime = [\n",
    "    get_slice(future_array, i, 2) for i in range(1,5)\n",
    "]\n",
    "future_realtime_curve = ForecastCurve([HistogramDist(d) for d in future_realtime])\n",
    "\n",
    "future_quantity = [\n",
    "    get_slice(future_array, i, 3) for i in range(1,5)\n",
    "]\n",
    "future_quantity_curve = ForecastCurve([HistogramDist(d) for d in future_quantity])\n",
    "\n",
    "futrue_submitted = [\n",
    "    get_slice(future_array, i, 4) for i in range(1,5)\n",
    "]\n",
    "\n",
    "future_market = ForecastMarket(future_dayahead_curve, future_realtime_curve, future_quantity_curve)"
   ],
   "id": "ed906b4959851079",
   "outputs": [],
   "execution_count": 26
  },
  {
   "metadata": {
    "ExecuteTime": {
     "end_time": "2024-11-15T09:59:23.882549Z",
     "start_time": "2024-11-15T09:59:23.880149Z"
    }
   },
   "cell_type": "code",
   "source": "print([i[1] for i in future_dayahead])",
   "id": "1f645d9b4ceea3d1",
   "outputs": [
    {
     "name": "stdout",
     "output_type": "stream",
     "text": [
      "[330.25, 330.0, 330.0, 330.0]\n"
     ]
    }
   ],
   "execution_count": 31
  },
  {
   "metadata": {
    "ExecuteTime": {
     "end_time": "2024-11-15T10:04:27.941744Z",
     "start_time": "2024-11-15T10:04:27.935739Z"
    }
   },
   "cell_type": "code",
   "source": [
    "from finance_utils.electrical.china.spot.rule.settlement import province_new_energy_with_recycle\n",
    "\n",
    "print([\n",
    "    province_new_energy_with_recycle(\n",
    "        [x[i] for x in future_dayahead], \n",
    "        [x[i] for x in future_realtime], \n",
    "        [x[i] for x in future_quantity],\n",
    "        [x[i] for x in futrue_submitted],\n",
    "        trigger_rate=trigger_rate, punishment_rate=punishment_rate\n",
    "    ) for i in range(len(future_dayahead[0]))\n",
    "])"
   ],
   "id": "5bd920236f90397c",
   "outputs": [
    {
     "name": "stdout",
     "output_type": "stream",
     "text": [
      "[915.2864987411498, 1481.587818568039, 2408.6705176902387, 1234.6870000624658, 418.67112499579787, 519.83349, 749.3262167134328, 1350.4919999999997, 4367.952007011416, 4508.827915000001, 1607.256999809265, 5620.0585, 709.9830010693073, 505.557, 364.58733505245203, 0.0, 0.0, 0.0, 0.0, 643.0296735047527, 675.640000166893, 486.31900000536444, 481.6675000327825, 722.7585435548209, 858.2445001916885]\n"
     ]
    }
   ],
   "execution_count": 37
  },
  {
   "metadata": {
    "ExecuteTime": {
     "end_time": "2024-11-15T10:04:34.550320Z",
     "start_time": "2024-11-15T10:04:34.546237Z"
    }
   },
   "cell_type": "code",
   "source": [
    "print([\n",
    "    province_new_energy_with_recycle(\n",
    "        [x[i] for x in future_dayahead], \n",
    "        [x[i] for x in future_realtime], \n",
    "        [x[i] for x in future_quantity],\n",
    "        [19.86701772,  0.1492182 ,  6.66549994,  0.52190155],\n",
    "        trigger_rate=trigger_rate, punishment_rate=punishment_rate\n",
    "    ) for i in range(len(future_dayahead[0]))\n",
    "])"
   ],
   "id": "d10bce7f323db5aa",
   "outputs": [
    {
     "name": "stdout",
     "output_type": "stream",
     "text": [
      "[271.75191735000027, 1480.3546306067892, 2417.8417628860643, 1279.3647977300004, 527.1286763862503, 715.689533306, 759.9197482568803, 1370.1901301000003, 4266.196278965088, 3856.0963381152997, 3058.73955955, 5586.18783762, 535.6039161943072, 486.15967956500003, 442.85792539959937, -311.34321534000003, -701.2989068165994, 52.277052049999924, -136.57333543999943, 645.5023975741832, 286.9340300168932, 269.02928392499996, 481.2155454999996, 439.28171116282044, 852.9751777699997]\n"
     ]
    }
   ],
   "execution_count": 38
  },
  {
   "metadata": {},
   "cell_type": "code",
   "outputs": [],
   "execution_count": null,
   "source": "",
   "id": "9f3834c93fd3e037"
  }
 ],
 "metadata": {
  "kernelspec": {
   "display_name": "Python 3",
   "language": "python",
   "name": "python3"
  },
  "language_info": {
   "codemirror_mode": {
    "name": "ipython",
    "version": 2
   },
   "file_extension": ".py",
   "mimetype": "text/x-python",
   "name": "python",
   "nbconvert_exporter": "python",
   "pygments_lexer": "ipython2",
   "version": "2.7.6"
  }
 },
 "nbformat": 4,
 "nbformat_minor": 5
}
