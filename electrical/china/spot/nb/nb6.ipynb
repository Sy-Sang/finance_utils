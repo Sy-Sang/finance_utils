{
 "cells": [
  {
   "cell_type": "code",
   "id": "initial_id",
   "metadata": {
    "collapsed": true,
    "ExecuteTime": {
     "end_time": "2024-11-12T01:50:19.054193Z",
     "start_time": "2024-11-12T01:50:19.050255Z"
    }
   },
   "source": [
    "from finance_utils.electrical.china.spot.discrete.probabilistic_forecast import DiscreteSpot, \\\n",
    "    ProbabilisticDiscreteCurve, SpotNoise\n",
    "from finance_utils.electrical.china.spot.discrete.testback import TestBack\n",
    "from finance_utils.electrical.china.spot.rule.recycle import SampleRecycle\n",
    "import numpy\n",
    "from data_utils.stochastic_utils.distributions.baseclass import ABCDistribution\n",
    "from data_utils.stochastic_utils.distributions.basic_distributions import NormalDistribution\n",
    "from data_utils.stochastic_utils.distributions.nonParametricDistribution import HistogramDist, LogHisDist\n",
    "from data_utils.stochastic_utils.distributions.discrete.basic import DiscreteDistribution\n",
    "from matplotlib import pyplot\n",
    "import tqdm\n",
    "import json\n",
    "\n",
    "from easy_utils.db_utils.mysql import MySQLLink\n",
    "from easy_utils.obj_utils.enumerable_utils import flatten\n",
    "from private.db import mysql_94j6daxc"
   ],
   "outputs": [],
   "execution_count": 47
  },
  {
   "metadata": {
    "ExecuteTime": {
     "end_time": "2024-11-12T01:49:10.734886Z",
     "start_time": "2024-11-12T01:49:10.732722Z"
    }
   },
   "cell_type": "code",
   "source": [
    "quantity_min = 0\n",
    "quantity_max = 30\n",
    "submitted_min = 0\n",
    "submitted_max = 30\n",
    "trigger_rate = 0.05\n",
    "punishment_rate = 0.5\n",
    "random_p = 0\n",
    "random_p_2 = 0.5"
   ],
   "id": "2259bb722de46a57",
   "outputs": [],
   "execution_count": 40
  },
  {
   "metadata": {
    "ExecuteTime": {
     "end_time": "2024-11-12T01:49:10.738993Z",
     "start_time": "2024-11-12T01:49:10.735888Z"
    }
   },
   "cell_type": "code",
   "source": [
    "db = MySQLLink(\n",
    "    url=mysql_94j6daxc[\"url\"],\n",
    "    port=mysql_94j6daxc[\"port\"],\n",
    "    user=mysql_94j6daxc[\"user\"],\n",
    "    pwd=mysql_94j6daxc[\"pwd\"],\n",
    "    db=\"tianrun_etrade\"\n",
    ")"
   ],
   "id": "1aee1615c5e85631",
   "outputs": [],
   "execution_count": 41
  },
  {
   "metadata": {
    "ExecuteTime": {
     "end_time": "2024-11-12T01:49:13.860837Z",
     "start_time": "2024-11-12T01:49:10.738993Z"
    }
   },
   "cell_type": "code",
   "source": [
    "d,_,__ = db.select(\n",
    "    \"select time_order,dayahead_statement_price,realtime_statement_price,dayahead_clearing_quantity,realtime_clearing_quantity \"\n",
    "    \"from spot_real \"\n",
    "    \"where station_id='14013006' and date between '2024-5-1' and '2024-8-1'\"\n",
    "    \"order by date,time_order\"\n",
    ")\n",
    "a= numpy.array(d)\n",
    "\n",
    "d2,_,__ = db.select(\n",
    "    \"select time_order,dayahead_statement_price,realtime_statement_price,dayahead_clearing_quantity,realtime_clearing_quantity \"\n",
    "    \"from spot_real \"\n",
    "    \"where station_id='14013006' and date between '2024-8-1' and '2024-9-1'\"\n",
    "    \"order by date,time_order\"\n",
    ")\n",
    "a2= numpy.array(d2)"
   ],
   "id": "644d8c7776dd0717",
   "outputs": [],
   "execution_count": 42
  },
  {
   "metadata": {
    "ExecuteTime": {
     "end_time": "2024-11-12T01:49:13.864423Z",
     "start_time": "2024-11-12T01:49:13.861857Z"
    }
   },
   "cell_type": "code",
   "source": [
    "def get_slice(xlist, order, slice):\n",
    "    return xlist[numpy.where(xlist[:,0]==order)][:,slice]"
   ],
   "id": "d04ae973f2eab19e",
   "outputs": [],
   "execution_count": 43
  },
  {
   "metadata": {
    "ExecuteTime": {
     "end_time": "2024-11-12T01:49:13.957693Z",
     "start_time": "2024-11-12T01:49:13.865452Z"
    }
   },
   "cell_type": "code",
   "source": [
    "dp_his_list = []\n",
    "rp_his_list = []\n",
    "aq_his_list = []\n",
    "max_aq = []\n",
    "for i in range(1,97):\n",
    "    dp = get_slice(a,i,1)\n",
    "    rp = get_slice(a,i,2)\n",
    "    sq = get_slice(a,i,3)\n",
    "    rq = get_slice(a,i,4)\n",
    "    aq = sq + rq\n",
    "    dp_his_list.append(HistogramDist(dp))\n",
    "    rp_his_list.append(HistogramDist(rp))\n",
    "    aq_his_list.append(HistogramDist(aq))\n",
    "    max_aq.append(numpy.max(aq))\n",
    "    \n",
    "dp_his_curve = ProbabilisticDiscreteCurve(dp_his_list)\n",
    "rp_his_curve = ProbabilisticDiscreteCurve(rp_his_list)\n",
    "aq_his_curve = ProbabilisticDiscreteCurve(aq_his_list, domain_min=0, domain_max=numpy.max(max_aq))"
   ],
   "id": "276919294e10a2d9",
   "outputs": [],
   "execution_count": 44
  },
  {
   "metadata": {
    "ExecuteTime": {
     "end_time": "2024-11-12T01:49:13.979793Z",
     "start_time": "2024-11-12T01:49:13.957693Z"
    }
   },
   "cell_type": "code",
   "source": [
    "spot = DiscreteSpot(\n",
    "    dp_his_curve,\n",
    "    rp_his_curve,\n",
    "    aq_his_curve\n",
    ")\n",
    "print(spot.quantity.value_list)"
   ],
   "id": "ecd5c58c2757795c",
   "outputs": [
    {
     "name": "stdout",
     "output_type": "stream",
     "text": [
      "[5.560247300688938, 5.480086005731936, 5.484021503235705, 5.468258067320753, 5.1329892584482835, 5.493537639071865, 5.076322587329855, 4.910494622763768, 5.229634403226197, 4.595913974479963, 5.152204301098343, 4.7767419332791405, 4.955032261119736, 5.198612891909897, 4.884397845137504, 5.099419356908849, 4.978817204593331, 4.987989254693831, 4.978752691912395, 4.858580646945584, 5.047494630523908, 4.801516126768564, 4.6715699055579405, 4.65037634049949, 4.480817184322624, 4.364591393970674, 4.304709681769855, 4.365473113693216, 4.288967748125395, 4.271333338250397, 4.172946227431297, 4.006677428842874, 3.65380645380738, 3.5161397892275157, 3.4434838688681197, 3.4252365652873955, 3.281129039861823, 2.8793978529360986, 3.538473116700368, 3.099666665433556, 3.1659892462786807, 3.1599247293677384, 2.847129039743895, 2.9805161310472794, 2.953107532014129, 2.934161292060729, 2.9386344175902748, 3.0657204315098383, 2.985053769878162, 3.1228602103571736, 3.0512580636778193, 3.231709682180036, 3.316193547761568, 3.58337634395784, 3.4993763501080126, 3.618397848442037, 3.810322582291018, 3.9617311849158305, 4.067344088956875, 4.1670752776207465, 4.14425806460073, 4.642075262538848, 4.79689247564603, 4.914473119207607, 5.119118277865072, 5.003731194678172, 5.203075272049953, 5.058301069864663, 5.519623656270324, 5.423752674569367, 5.7186881854636695, 5.824881728915758, 5.87487097080805, 5.913419359419937, 6.46448386639677, 6.232043014836568, 6.189075271903828, 6.653634407220349, 6.644645163066924, 6.679720433217222, 6.628838713843335, 6.683903223232557, 6.706268820252469, 6.543440865937101, 6.4489892560358975, 6.324064522799625, 6.411043016910552, 6.135720427243941, 6.359505377810491, 6.322279574901828, 6.022473114880184, 6.08938709969418, 5.795247320159789, 5.895494622894511, 5.844774188418543, 5.827870973358871]\n"
     ]
    }
   ],
   "execution_count": 45
  },
  {
   "metadata": {
    "ExecuteTime": {
     "end_time": "2024-11-12T01:49:15.921528Z",
     "start_time": "2024-11-12T01:49:13.979793Z"
    }
   },
   "cell_type": "code",
   "source": [
    "print(spot.differential_evolution__search(\n",
    "    submitted_min=0,\n",
    "    submitted_max=numpy.max(max_aq),\n",
    "    trigger_rate = trigger_rate,\n",
    "    punishment_rate = punishment_rate\n",
    "))"
   ],
   "id": "1e360fa7583e48c5",
   "outputs": [
    {
     "name": "stdout",
     "output_type": "stream",
     "text": [
      "(array([ 0.   ,  0.   ,  0.   ,  0.   ,  0.   ,  0.   ,  0.   ,  0.   ,\n",
      "        0.   ,  0.   ,  0.   ,  0.   , 39.301, 39.301, 39.301, 39.301,\n",
      "       39.301,  0.   , 39.301, 39.301,  0.   ,  0.   ,  0.   ,  0.   ,\n",
      "        0.   , 39.301, 39.301, 39.301, 39.301,  0.   , 39.301, 39.301,\n",
      "       39.301,  0.   ,  0.   ,  0.   ,  0.   ,  0.   ,  0.   ,  0.   ,\n",
      "        0.   ,  0.   ,  0.   , 39.301,  0.   ,  0.   ,  0.   ,  0.   ,\n",
      "        0.   ,  0.   ,  0.   ,  0.   ,  0.   ,  0.   ,  0.   ,  0.   ,\n",
      "        0.   ,  0.   ,  0.   ,  0.   ,  0.   ,  0.   ,  0.   ,  0.   ,\n",
      "        0.   , 39.301, 39.301, 39.301,  0.   ,  0.   ,  0.   ,  0.   ,\n",
      "        0.   ,  0.   ,  0.   ,  0.   ,  0.   ,  0.   ,  0.   ,  0.   ,\n",
      "        0.   ,  0.   ,  0.   ,  0.   ,  0.   ,  0.   ,  0.   ,  0.   ,\n",
      "        0.   ,  0.   ,  0.   ,  0.   ,  0.   ,  0.   ,  0.   ,  0.   ]), 84340.68194649223)\n"
     ]
    }
   ],
   "execution_count": 46
  },
  {
   "metadata": {
    "ExecuteTime": {
     "end_time": "2024-11-12T01:49:15.923730Z",
     "start_time": "2024-11-12T01:49:15.921528Z"
    }
   },
   "cell_type": "code",
   "source": "",
   "id": "b236a270e6144ede",
   "outputs": [],
   "execution_count": 46
  }
 ],
 "metadata": {
  "kernelspec": {
   "display_name": "Python 3",
   "language": "python",
   "name": "python3"
  },
  "language_info": {
   "codemirror_mode": {
    "name": "ipython",
    "version": 2
   },
   "file_extension": ".py",
   "mimetype": "text/x-python",
   "name": "python",
   "nbconvert_exporter": "python",
   "pygments_lexer": "ipython2",
   "version": "2.7.6"
  }
 },
 "nbformat": 4,
 "nbformat_minor": 5
}
