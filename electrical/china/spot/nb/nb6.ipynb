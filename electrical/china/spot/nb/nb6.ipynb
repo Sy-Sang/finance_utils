{
 "cells": [
  {
   "cell_type": "code",
   "id": "initial_id",
   "metadata": {
    "collapsed": true
   },
   "source": [
    "from finance_utils.electrical.china.spot.discrete.probabilistic_forecast import DiscreteSpot, \\\n",
    "    ProbabilisticDiscreteCurve, SpotNoise\n",
    "from finance_utils.electrical.china.spot.discrete.testback import TestBack\n",
    "from finance_utils.electrical.china.spot.rule.recycle import SampleRecycle\n",
    "import numpy\n",
    "from data_utils.stochastic_utils.distributions.baseclass import ABCDistribution\n",
    "from data_utils.stochastic_utils.distributions.basic_distributions import NormalDistribution\n",
    "from data_utils.stochastic_utils.distributions.nonParametricDistribution import HistogramDist, LogHisDist\n",
    "from data_utils.stochastic_utils.distributions.discrete.basic import DiscreteDistribution\n",
    "from matplotlib import pyplot\n",
    "import tqdm\n",
    "import json\n",
    "\n",
    "from easy_utils.db_utils.mysql import MySQLLink\n",
    "from easy_utils.obj_utils.enumerable_utils import flatten\n",
    "from private.db import mysql_94j6daxc"
   ],
   "outputs": [],
   "execution_count": null
  },
  {
   "metadata": {},
   "cell_type": "code",
   "source": [
    "quantity_min = 0\n",
    "quantity_max = 30\n",
    "submitted_min = 0\n",
    "submitted_max = 30\n",
    "trigger_rate = 0.05\n",
    "punishment_rate = 0.5\n",
    "random_p = 0\n",
    "random_p_2 = 0.5"
   ],
   "id": "2259bb722de46a57",
   "outputs": [],
   "execution_count": null
  },
  {
   "metadata": {},
   "cell_type": "code",
   "source": [
    "db = MySQLLink(\n",
    "    url=mysql_94j6daxc[\"url\"],\n",
    "    port=mysql_94j6daxc[\"port\"],\n",
    "    user=mysql_94j6daxc[\"user\"],\n",
    "    pwd=mysql_94j6daxc[\"pwd\"],\n",
    "    db=\"tianrun_etrade\"\n",
    ")"
   ],
   "id": "1aee1615c5e85631",
   "outputs": [],
   "execution_count": null
  },
  {
   "metadata": {},
   "cell_type": "code",
   "source": [
    "d,_,__ = db.select(\n",
    "    \"select time_order,dayahead_statement_price,realtime_statement_price,dayahead_clearing_quantity,realtime_clearing_quantity \"\n",
    "    \"from spot_real \"\n",
    "    \"where station_id='14013006' and date between '2024-5-1' and '2024-8-1'\"\n",
    ")\n",
    "a= numpy.array(d)\n",
    "\n",
    "d2,_,__ = db.select(\n",
    "    \"select time_order,dayahead_statement_price,realtime_statement_price,dayahead_clearing_quantity,realtime_clearing_quantity \"\n",
    "    \"from spot_real \"\n",
    "    \"where station_id='14013006' and date between '2024-8-1' and '2024-9-1'\"\n",
    ")\n",
    "a2= numpy.array(d2)"
   ],
   "id": "644d8c7776dd0717",
   "outputs": [],
   "execution_count": null
  },
  {
   "metadata": {
    "ExecuteTime": {
     "start_time": "2024-11-11T10:05:29.058596Z"
    }
   },
   "cell_type": "code",
   "source": [
    "def get_slice(xlist, order, slice):\n",
    "    return xlist[numpy.where(xlist[:,0]==order)][:,slice]"
   ],
   "id": "d04ae973f2eab19e",
   "outputs": [],
   "execution_count": null
  },
  {
   "metadata": {
    "ExecuteTime": {
     "start_time": "2024-11-11T10:05:29.062215Z"
    }
   },
   "cell_type": "code",
   "source": [
    "dp_his_list = []\n",
    "rp_his_list = []\n",
    "aq_his_list = []\n",
    "max_aq = []\n",
    "sq_list = []\n",
    "for i in range(1,5):\n",
    "    dp = get_slice(a,i,1)\n",
    "    rp = get_slice(a,i,2)\n",
    "    sq = get_slice(a,i,3)\n",
    "    rq = get_slice(a,i,4)\n",
    "    aq = sq + rq\n",
    "    dp_his_list.append(HistogramDist(dp))\n",
    "    rp_his_list.append(HistogramDist(rp))\n",
    "    aq_his_list.append(HistogramDist(aq))\n",
    "    max_aq.append(numpy.max(aq))\n",
    "    \n",
    "dp_his_curve = ProbabilisticDiscreteCurve(dp_his_list)\n",
    "rp_his_curve = ProbabilisticDiscreteCurve(rp_his_list)\n",
    "aq_his_curve = ProbabilisticDiscreteCurve(aq_his_list, domain_min=0, domain_max=numpy.max(max_aq))"
   ],
   "id": "276919294e10a2d9",
   "outputs": [],
   "execution_count": null
  },
  {
   "metadata": {
    "ExecuteTime": {
     "end_time": "2024-11-11T10:06:47.738067Z",
     "start_time": "2024-11-11T10:06:47.733631Z"
    }
   },
   "cell_type": "code",
   "source": [
    "spot = DiscreteSpot(\n",
    "    dp_his_curve,\n",
    "    rp_his_curve,\n",
    "    aq_his_curve\n",
    ")\n",
    "print(spot.quantity.value_list)"
   ],
   "id": "ecd5c58c2757795c",
   "outputs": [
    {
     "name": "stdout",
     "output_type": "stream",
     "text": [
      "[5.560247300688938, 5.480086005731937, 5.484021503235704, 5.468258067320752]\n"
     ]
    }
   ],
   "execution_count": 15
  },
  {
   "metadata": {
    "ExecuteTime": {
     "end_time": "2024-11-11T10:08:22.079082Z",
     "start_time": "2024-11-11T10:08:21.950090Z"
    }
   },
   "cell_type": "code",
   "source": [
    "print(spot.differential_evolution__search(\n",
    "    submitted_min=0,\n",
    "    submitted_max=numpy.max(max_aq),\n",
    "    trigger_rate = trigger_rate,\n",
    "    punishment_rate = punishment_rate\n",
    "))"
   ],
   "id": "1e360fa7583e48c5",
   "outputs": [
    {
     "name": "stdout",
     "output_type": "stream",
     "text": [
      "(array([20.4053772 ,  0.30671945,  0.13238277,  0.08996178]), 7729.331228407268)\n"
     ]
    }
   ],
   "execution_count": 16
  },
  {
   "metadata": {
    "ExecuteTime": {
     "start_time": "2024-11-11T10:05:29.205273Z"
    }
   },
   "cell_type": "code",
   "source": "",
   "id": "b236a270e6144ede",
   "outputs": [],
   "execution_count": null
  }
 ],
 "metadata": {
  "kernelspec": {
   "display_name": "Python 3",
   "language": "python",
   "name": "python3"
  },
  "language_info": {
   "codemirror_mode": {
    "name": "ipython",
    "version": 2
   },
   "file_extension": ".py",
   "mimetype": "text/x-python",
   "name": "python",
   "nbconvert_exporter": "python",
   "pygments_lexer": "ipython2",
   "version": "2.7.6"
  }
 },
 "nbformat": 4,
 "nbformat_minor": 5
}
