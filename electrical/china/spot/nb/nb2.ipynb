{
 "cells": [
  {
   "cell_type": "code",
   "id": "initial_id",
   "metadata": {
    "collapsed": true,
    "ExecuteTime": {
     "end_time": "2024-11-04T02:37:40.767002Z",
     "start_time": "2024-11-04T02:37:40.764028Z"
    }
   },
   "source": [
    "from finance_utils.electrical.china.spot.discrete.probabilistic_forecast import DiscreteSpot,ProbabilisticDiscreteCurve\n",
    "from finance_utils.electrical.china.spot.discrete.testback import TestBack\n",
    "from finance_utils.electrical.china.spot.rule.recycle import SampleRecycle\n",
    "import numpy"
   ],
   "outputs": [],
   "execution_count": 28
  },
  {
   "metadata": {
    "ExecuteTime": {
     "end_time": "2024-11-04T02:37:40.771699Z",
     "start_time": "2024-11-04T02:37:40.768005Z"
    }
   },
   "cell_type": "code",
   "source": [
    "from data_utils.stochastic_utils.distributions.baseclass import ABCDistribution\n",
    "from data_utils.stochastic_utils.distributions.basic_distributions import NormalDistribution"
   ],
   "id": "fcac583a431b3f3",
   "outputs": [],
   "execution_count": 29
  },
  {
   "metadata": {
    "ExecuteTime": {
     "end_time": "2024-11-04T02:37:40.776259Z",
     "start_time": "2024-11-04T02:37:40.772702Z"
    }
   },
   "cell_type": "code",
   "source": [
    "quantity_min = 0\n",
    "quantity_max = 30\n",
    "\n",
    "dayahead = ProbabilisticDiscreteCurve([\n",
    "    NormalDistribution(200, 9),\n",
    "    NormalDistribution(201, 8),\n",
    "    NormalDistribution(203, 7),\n",
    "    NormalDistribution(102, 6),\n",
    "])\n",
    "\n",
    "realtime = ProbabilisticDiscreteCurve([\n",
    "    NormalDistribution(200 * 1.5, 20),\n",
    "    NormalDistribution(201 * 1.1, 21),\n",
    "    NormalDistribution(203 * 1.2, 22),\n",
    "    NormalDistribution(102 * 0.5, 53),\n",
    "])\n",
    "\n",
    "quantity = ProbabilisticDiscreteCurve([\n",
    "    NormalDistribution(10, 5),\n",
    "    NormalDistribution(9, 3),\n",
    "    NormalDistribution(15, 1),\n",
    "    NormalDistribution(25, 2),\n",
    "], domain_min=quantity_min, domain_max=quantity_max)\n",
    "\n",
    "spot = DiscreteSpot(dayahead, realtime, quantity)"
   ],
   "id": "74d58ae386b33ec7",
   "outputs": [],
   "execution_count": 30
  },
  {
   "metadata": {
    "ExecuteTime": {
     "end_time": "2024-11-04T02:37:40.781511Z",
     "start_time": "2024-11-04T02:37:40.779264Z"
    }
   },
   "cell_type": "code",
   "source": "from matplotlib import pyplot",
   "id": "3e0aaddf263e4bff",
   "outputs": [],
   "execution_count": 31
  },
  {
   "metadata": {
    "ExecuteTime": {
     "end_time": "2024-11-04T02:37:40.785841Z",
     "start_time": "2024-11-04T02:37:40.782514Z"
    }
   },
   "cell_type": "code",
   "source": [
    "trigger_rate = 0.09\n",
    "punishment_rate = 0.5"
   ],
   "id": "737669583e6b49bd",
   "outputs": [],
   "execution_count": 32
  },
  {
   "metadata": {
    "ExecuteTime": {
     "end_time": "2024-11-04T02:37:40.814335Z",
     "start_time": "2024-11-04T02:37:40.786844Z"
    }
   },
   "cell_type": "code",
   "source": [
    "testback = TestBack(spot.diff_random_sample(p=0.2, n=50, epoch=50, use_random=True))\n",
    "submitt_control = spot.quantity.value_list"
   ],
   "id": "8c7e4bb60bf04c0b",
   "outputs": [],
   "execution_count": 33
  },
  {
   "metadata": {
    "ExecuteTime": {
     "end_time": "2024-11-04T02:37:45.111181Z",
     "start_time": "2024-11-04T02:37:40.815338Z"
    }
   },
   "cell_type": "code",
   "source": [
    "submitt_test = testback.continuous_random_grid_search(\n",
    "    spot.quantity.value_list, delta_min=-20, delta_max=20, epoch=20, rounds=20, submitted_min=0, \n",
    "    submitted_max=30, recycle=SampleRecycle, trigger_rate=trigger_rate, punishment_rate=punishment_rate)[-1][0]\n",
    "submitt_test2 = testback.random_grid_search(\n",
    "    submitted_list= spot.quantity.value_list, \n",
    "    delta_min=-20, \n",
    "    delta_max=20, \n",
    "    epoch=400, \n",
    "    submitted_min=0, \n",
    "    submitted_max=30, \n",
    "    recycle=SampleRecycle, trigger_rate=trigger_rate, punishment_rate=punishment_rate\n",
    ")[0]\n",
    "submitt_test3 = testback.differential_evolution__search(\n",
    "    spot.quantity.value_list,\n",
    "    delta_min=-20, \n",
    "    delta_max=20,\n",
    "    submitted_min=0, \n",
    "    submitted_max=30,\n",
    "    recycle=SampleRecycle, \n",
    "    trigger_rate=trigger_rate,  \n",
    "    punishment_rate=punishment_rate\n",
    ")\n",
    "submitt_test4 = spot.differential_evolution__search(\n",
    "    spot.quantity.value_list,\n",
    "    delta_min=-20, \n",
    "    delta_max=20,\n",
    "    submitted_min=0, \n",
    "    submitted_max=30,\n",
    "    recycle=SampleRecycle, \n",
    "    trigger_rate=trigger_rate,  \n",
    "    punishment_rate=punishment_rate\n",
    ")\n",
    "print(spot.quantity.value_list)\n",
    "print([submitt_test3[0].tolist(), submitt_test3[1]])\n",
    "print([submitt_test4[0].tolist(), submitt_test4[1]])\n",
    "print(submitt_test)\n",
    "print(submitt_test2)"
   ],
   "id": "f6f3355b3d18dda1",
   "outputs": [
    {
     "name": "stdout",
     "output_type": "stream",
     "text": [
      "[10, 9, 15, 25]\n",
      "[[0.059286745441248456, 28.851558861208872, 1.5437699249671226, 29.95863764983601], 9233.134133252242]\n",
      "[[0.05800957684506791, 23.605773716974095, 0.4761811233721627, 29.818172006176965], 10940.01680931043]\n",
      "[0, 1.5969796563028957, 28.8569862119389, 30.0]\n",
      "[0, 27.325892691589587, 0.8270178371153527, 30]\n"
     ]
    }
   ],
   "execution_count": 34
  },
  {
   "metadata": {
    "ExecuteTime": {
     "end_time": "2024-11-04T02:37:45.115887Z",
     "start_time": "2024-11-04T02:37:45.112185Z"
    }
   },
   "cell_type": "code",
   "source": [
    "noise_dayahead = ProbabilisticDiscreteCurve([\n",
    "    NormalDistribution(200, 9 * 1.5),\n",
    "    NormalDistribution(201, 8 * 1.5),\n",
    "    NormalDistribution(203, 7 * 1.5),\n",
    "    NormalDistribution(102, 6 * 1.5),\n",
    "])\n",
    "\n",
    "noise_realtime = ProbabilisticDiscreteCurve([\n",
    "    NormalDistribution(200 * 1.2, 20 * 1.5),\n",
    "    NormalDistribution(201 * 1.1, 21 * 1.5),\n",
    "    NormalDistribution(203 * 1.2, 22 * 1.5),\n",
    "    NormalDistribution(102 * 0.8, 53 * 1.5),\n",
    "])\n",
    "\n",
    "noise_quantity = ProbabilisticDiscreteCurve([\n",
    "    NormalDistribution(10, 5 * 1.5),\n",
    "    NormalDistribution(9, 3 * 1.5),\n",
    "    NormalDistribution(15, 1 * 1.5),\n",
    "    NormalDistribution(25, 2 * 1.5),\n",
    "], domain_min=quantity_min, domain_max=quantity_max)\n",
    "noise_spot = DiscreteSpot(dayahead, realtime, quantity)"
   ],
   "id": "57678a6633f19398",
   "outputs": [],
   "execution_count": 35
  },
  {
   "metadata": {
    "ExecuteTime": {
     "end_time": "2024-11-04T03:00:43.622209Z",
     "start_time": "2024-11-04T03:00:38.066418Z"
    }
   },
   "cell_type": "code",
   "source": [
    "rec = []\n",
    "for _ in range(100):\n",
    "    # temp_testback = TestBack(noise_spot.random_sample(n=50, epoch=50, use_random=True))\n",
    "    temp_testback = TestBack(noise_spot.diff_random_sample(p=0.6, n=100, epoch=100, use_random=True))\n",
    "    temp_control_yield = temp_testback.testback_yield(submitt_control, recycle=SampleRecycle, trigger_rate=trigger_rate, punishment_rate=punishment_rate).mean()\n",
    "    temp_random_search_yield = temp_testback.testback_yield(submitt_test, recycle=SampleRecycle, trigger_rate=trigger_rate, punishment_rate=punishment_rate).mean()\n",
    "    temp_de_search_yield = temp_testback.testback_yield(submitt_test3[0], recycle=SampleRecycle, trigger_rate=trigger_rate, punishment_rate=punishment_rate).mean()\n",
    "    temp_de_search_yield2 = temp_testback.testback_yield(submitt_test4[0], recycle=SampleRecycle, trigger_rate=trigger_rate, punishment_rate=punishment_rate).mean()\n",
    "    rec.append([temp_random_search_yield - temp_control_yield, temp_de_search_yield-temp_control_yield, temp_de_search_yield2 - temp_control_yield])\n",
    "    rec_array = numpy.array(rec)\n",
    "pyplot.hist(rec_array[:,0], alpha=0.5)\n",
    "pyplot.hist(rec_array[:,1], alpha=0.5)\n",
    "pyplot.hist(rec_array[:,2], alpha=0.2)\n",
    "pyplot.legend([\"random_search\", \"de_search\", \"dist_mean_de_search\"])\n",
    "pyplot.show()"
   ],
   "id": "3644b0fb6b9f6d65",
   "outputs": [
    {
     "data": {
      "text/plain": [
       "<Figure size 640x480 with 1 Axes>"
      ],
      "image/png": "[encoded data removed]"
     },
     "metadata": {},
     "output_type": "display_data"
    }
   ],
   "execution_count": 44
  },
  {
   "metadata": {
    "ExecuteTime": {
     "end_time": "2024-11-04T02:37:50.554319Z",
     "start_time": "2024-11-04T02:37:50.366753Z"
    }
   },
   "cell_type": "code",
   "source": [
    "y_hat = [\n",
    "    numpy.mean(\n",
    "        temp_testback.testback_yield([i] * 4, recycle=SampleRecycle, trigger_rate=trigger_rate, punishment_rate=punishment_rate).yield_curve\n",
    "    ) for i in range(1,20)\n",
    "]\n",
    "y_control = [\n",
    "    numpy.mean(\n",
    "        temp_testback.testback_yield(spot.quantity.value_list, recycle=SampleRecycle, trigger_rate=trigger_rate, punishment_rate=punishment_rate).yield_curve\n",
    "    ) for i in range(1,20)\n",
    "]\n",
    "y_search = [\n",
    "    numpy.mean(\n",
    "        temp_testback.testback_yield(\n",
    "            submitt_test3[0],recycle=SampleRecycle, trigger_rate=trigger_rate, punishment_rate=punishment_rate).yield_curve\n",
    "    ) for i in range(1,20)\n",
    "]\n",
    "# pyplot.plot(y)\n",
    "pyplot.plot(y_hat)\n",
    "pyplot.plot(y_control)\n",
    "pyplot.plot(y_search)\n",
    "pyplot.legend([\"y\",\"control\",\"search\"])\n",
    "pyplot.show()"
   ],
   "id": "7af5229d7fe638fd",
   "outputs": [
    {
     "data": {
      "text/plain": [
       "<Figure size 640x480 with 1 Axes>"
      ],
      "image/png": "[encoded data removed]"
     },
     "metadata": {},
     "output_type": "display_data"
    }
   ],
   "execution_count": 37
  },
  {
   "metadata": {
    "ExecuteTime": {
     "end_time": "2024-11-04T02:37:50.573924Z",
     "start_time": "2024-11-04T02:37:50.554319Z"
    }
   },
   "cell_type": "code",
   "source": "print(noise_quantity.diff_random_sample(n=100, epoch=100).tolist())",
   "id": "d316c68170dde9f7",
   "outputs": [
    {
     "name": "stdout",
     "output_type": "stream",
     "text": [
      "[[14.14846279159215, 1.5983404349601136, 16.191798858779293, 29.11831094848671], [6.110839362301077, 9.15345474973596, 12.631377311232672, 22.127779060697545], [10.212785095072054, 8.505562984276217, 13.521931401937408, 24.388841108743073], [5.406527311677869, 5.4101432776475535, 14.411021513730269, 26.36344350369604], [1.8602726447372735, 15.013449368514229, 14.443498939087618, 25.713396219710212], [6.549006926568488, 13.85232562372762, 19.884455827217394, 30.0], [6.132139547380694, 13.279167150588961, 16.798524518397628, 29.491072188230397], [19.570190169809333, 22.549238896672964, 13.224964042217016, 26.31632372124094], [0.0, 7.80167435770929, 12.588321958278547, 21.577681759864124], [0.6927247208776137, 0.6275699144939758, 5.054292681376678, 28.143517216475345], [4.896143434878763, 5.710391940374118, 15.327315682069298, 21.054233094962612], [14.124433518100421, 10.678008074928245, 20.973601455257537, 25.596428318652887], [6.573950253613891, 8.634333427333255, 13.78463221901672, 23.20915390547524], [3.1168905757929153, 0.0, 8.975852458304178, 24.319731604316317], [24.952938685166878, 9.11863724883608, 14.44230047749248, 22.413675502608474], [5.537721982762458, 8.971884277626609, 15.962704281888948, 25.49193619534517], [11.370815121477353, 13.763982963989685, 15.065965504402506, 24.411206589866886], [13.038715451689532, 13.120391392836417, 13.848110327702436, 22.899765443124593], [14.194807448610625, 12.092425163813843, 21.046622611044096, 28.98116608628751], [20.127702689751665, 12.91959702175188, 14.588902185619899, 24.591540745540826], [12.544698725835357, 8.880247095803155, 13.75311692139566, 26.859331232504022], [4.95642848916353, 20.410144863357637, 24.631817051176295, 21.02914931410212], [2.0327473320617973, 0.0, 6.056441743757087, 16.933594744771295], [19.762069249928828, 21.79197488298226, 15.098174508056735, 26.272250336381475], [2.154426368180486, 8.171309979774879, 17.506304356776152, 25.408403135309896], [12.922028880790151, 13.745511872441064, 18.46568244740792, 29.427551774812848], [0.8225815282103461, 0.0, 0.22083725931327436, 10.495045374160267], [10.997975089628031, 3.630263063989214, 10.023039559714778, 24.112536960460744], [3.01688245601889, 0.44993923106393385, 0.8544087342080898, 10.23889215666574], [6.469213683861122, 8.054617798198139, 15.652262479803511, 25.676667699891397], [8.455231355918874, 8.877058838353989, 16.481373542332566, 21.977700538052378], [14.60311733132437, 9.548336075147027, 12.247712782572451, 23.45461732882796], [5.310623218168277, 1.96482939065764, 16.958636187384464, 26.15311803331195], [6.056755460624115, 6.178007215326411, 17.335277175726137, 18.33531188872236], [1.0369626177586397, 12.501894796002434, 22.325233089864074, 30.0], [9.797769029766771, 4.157903274671769, 16.2081554119773, 27.43742322382954], [4.284016741066907, 6.498649966056021, 14.518376598313388, 13.172677857921107], [12.763158162995033, 11.24329193479273, 14.779775935565556, 25.908517146662597], [11.912545851570355, 12.72506049330617, 16.97436869959088, 28.58849428317236], [0.742269837361528, 0.8883726221091663, 14.217988820385575, 23.074266032528335], [10.59220546406356, 14.173975387261304, 14.188857226391356, 23.8886357757792], [18.242456248886526, 6.571197586069671, 17.724098896917077, 25.786160187629875], [3.261794802876623, 2.9496072993088616, 12.964149395098758, 25.924948372926952], [18.27643371525547, 19.748784281968714, 30.0, 30.0], [9.57234744448535, 9.894693590098024, 17.368106497414647, 20.243096514785726], [27.171581307905157, 28.150051553113716, 30.0, 30.0], [7.1640761373932875, 11.9088999579093, 22.615777976421622, 22.912734113164838], [15.938025841096916, 5.60595899267991, 11.616793288104656, 22.72459312827579], [5.960491865608069, 12.849980602577466, 15.181217609475345, 23.91971026692224], [7.8976806145730585, 8.10832215484743, 14.272566102478033, 26.91635028881133], [18.50773142364586, 16.58355348719311, 11.432652451204582, 21.856198805789504], [0.0, 15.350764689741247, 24.046759782194997, 30.0], [9.071077865251892, 4.195046792831018, 2.3135544170365234, 23.389058631863005], [11.540972944571626, 6.328440832091342, 16.841546193025, 26.965061727222913], [16.306091024511407, 18.487488839714636, 15.667637253508321, 27.05273538640516], [12.394706125929172, 11.627710117916966, 16.895787271132583, 27.91918589774684], [12.110233701305674, 7.033615345967048, 12.677142464344325, 21.85034948937272], [16.1600343278998, 15.520467083454216, 17.85019168012771, 28.081876927839303], [6.2968212176637355, 5.406357097867808, 15.128057189714434, 25.70764734782353], [8.083227833503077, 7.670772892579516, 13.845324991331989, 25.957503770636134], [15.700341627689113, 9.91991587699741, 21.93449476579429, 30.0], [5.358634171914828, 11.938417830688675, 15.385314050176584, 25.475465522076945], [2.605117883290176, 0.8992685624431704, 4.159068880657019, 22.978125917871076], [19.247172120448603, 8.339866763265467, 15.766376447108376, 23.580658727305806], [9.649341150273337, 13.882089175395272, 16.1716107908697, 24.192449121933965], [11.035697131785344, 0.9765448538817267, 0.8081600590294447, 8.591659595583854], [11.647196809913192, 6.279011945362987, 8.20944728819489, 17.148604217263046], [0.29558137098209336, 0.0, 4.924933263430717, 23.254079534636226], [17.76715275142894, 5.756447827135835, 16.260741281390168, 29.309574057369282], [13.211802161221897, 13.034823486923372, 20.92832649536968, 23.300072824965785], [3.862481995240267, 7.016012849127535, 18.931122342097286, 30.0], [0.0, 6.434834559478772, 11.916740470765294, 18.301408504326368], [4.4812639253607625, 5.998004586078673, 11.582665620993952, 25.32518066357118], [7.259406115839733, 13.004555018546345, 21.397910674995494, 30.0], [10.804435390545569, 2.408388047855614, 15.268311095517923, 24.510776450857684], [4.676336288239256, 8.178703931148327, 14.408161018221204, 26.030586164837583], [1.9675576896042184, 5.103666113959169, 5.1716719451176605, 17.256367266002993], [12.330722707346906, 16.50808813228876, 14.777307801455962, 26.14459327258278], [11.421188488050754, 15.640154939786594, 14.642622029700059, 26.64530937088534], [2.9863761372942728, 14.802091631821684, 19.41957656733439, 30.0], [13.016252408010205, 4.528419935769722, 15.75356594871661, 26.645290039738647], [23.721356352989577, 10.048524702785278, 14.831118050712092, 13.009544745736243], [9.120987126259708, 6.1290531496750305, 14.497633839396064, 21.41804851628776], [14.702948208704143, 15.83028025198888, 22.10289350279802, 26.0015225292729], [0.916104142000524, 5.759728791650057, 15.063924417898589, 24.950831985423214], [10.982411140281453, 2.7060112658037196, 8.017012356127506, 19.8435059767109], [11.455516543709791, 14.67505732839967, 15.483065102489649, 25.71708016112066], [15.451594000846736, 16.137468413488545, 14.501833182887738, 24.52628562106736], [25.457272102825918, 19.461257508899653, 15.901502903733148, 24.605273008634686], [1.9538511346951921, 0.0, 14.09081302964981, 25.951307347788738], [8.78389060120867, 6.339863577676232, 15.231465077593182, 26.225392453789382], [8.92376302414339, 7.835669727325384, 18.03225651684992, 27.053880280823446], [17.899488946622697, 12.056187284422851, 11.724719552741842, 25.387276984843083], [11.90030684876451, 7.382648317145655, 10.602091139479032, 18.452923612564685], [3.3069968962164173, 8.635331773283987, 18.798805675938624, 28.116926760968223], [3.0554552163645594, 7.653271072376482, 15.02717075787561, 24.794351712615327], [17.733086439294816, 11.412730491534848, 20.841196385101668, 30.0], [8.462133552894256, 11.63258536648002, 19.842559555484783, 29.97184874677169], [14.437841313683604, 6.203757262336937, 13.71402629838, 23.264243748140125], [6.242308583625855, 7.176987464571425, 16.723065215071895, 29.415499704636964]]\n"
     ]
    }
   ],
   "execution_count": 38
  },
  {
   "metadata": {
    "ExecuteTime": {
     "end_time": "2024-11-04T02:37:50.576415Z",
     "start_time": "2024-11-04T02:37:50.574927Z"
    }
   },
   "cell_type": "code",
   "source": "",
   "id": "2e778fc1b97df252",
   "outputs": [],
   "execution_count": 38
  }
 ],
 "metadata": {
  "kernelspec": {
   "display_name": "Python 3",
   "language": "python",
   "name": "python3"
  },
  "language_info": {
   "codemirror_mode": {
    "name": "ipython",
    "version": 2
   },
   "file_extension": ".py",
   "mimetype": "text/x-python",
   "name": "python",
   "nbconvert_exporter": "python",
   "pygments_lexer": "ipython2",
   "version": "2.7.6"
  }
 },
 "nbformat": 4,
 "nbformat_minor": 5
}
